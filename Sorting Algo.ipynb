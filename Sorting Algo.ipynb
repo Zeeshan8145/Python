{
 "cells": [
  {
   "cell_type": "code",
   "execution_count": 1,
   "id": "f986a904",
   "metadata": {},
   "outputs": [
    {
     "name": "stdout",
     "output_type": "stream",
     "text": [
      "Hello world\n"
     ]
    }
   ],
   "source": [
    "print(\"Hello world\")"
   ]
  },
  {
   "cell_type": "code",
   "execution_count": 2,
   "id": "2b98d807",
   "metadata": {},
   "outputs": [],
   "source": [
    "def SS(L):\n",
    "    n = len(L)\n",
    "    if n<1:\n",
    "        return(L)\n",
    "    for i in range(n):\n",
    "        mpos = i\n",
    "        for j in range(i+1,n):\n",
    "            if L[j]<L[mpos]:\n",
    "                mpos = j\n",
    "        (L[i],L[mpos]) = (L[mpos],L[i])\n",
    "    return (L)\n",
    "    "
   ]
  },
  {
   "cell_type": "code",
   "execution_count": 3,
   "id": "4bc8a104",
   "metadata": {},
   "outputs": [
    {
     "name": "stdout",
     "output_type": "stream",
     "text": [
      "[1, 2, 24, 2343, 4234, 5325, 3453613]\n"
     ]
    }
   ],
   "source": [
    "l = [2,1,4234,2343,5325,24,3453613]\n",
    "print(SS(l))"
   ]
  },
  {
   "cell_type": "code",
   "execution_count": 6,
   "id": "5c862181",
   "metadata": {},
   "outputs": [],
   "source": [
    "def IS(L):\n",
    "    n = len(L)\n",
    "    if n<1:\n",
    "        return(L)\n",
    "    for i in range(n):\n",
    "        j = i\n",
    "        while(j>0 and L[j]<l[j-1]):\n",
    "            (L[j],L[j-1]) = (L[j-1],L[j])\n",
    "            j - j-1\n",
    "    return(L)"
   ]
  },
  {
   "cell_type": "code",
   "execution_count": 7,
   "id": "6d452a23",
   "metadata": {},
   "outputs": [
    {
     "name": "stdout",
     "output_type": "stream",
     "text": [
      "[1, 2, 2343, 4234, 24, 5325, 3453613]\n"
     ]
    }
   ],
   "source": [
    "l = [2,1,4234,2343,5325,24,3453613]\n",
    "print(IS(l))"
   ]
  },
  {
   "cell_type": "code",
   "execution_count": null,
   "id": "b0e87af5",
   "metadata": {},
   "outputs": [],
   "source": []
  }
 ],
 "metadata": {
  "kernelspec": {
   "display_name": "Python 3 (ipykernel)",
   "language": "python",
   "name": "python3"
  },
  "language_info": {
   "codemirror_mode": {
    "name": "ipython",
    "version": 3
   },
   "file_extension": ".py",
   "mimetype": "text/x-python",
   "name": "python",
   "nbconvert_exporter": "python",
   "pygments_lexer": "ipython3",
   "version": "3.9.13"
  }
 },
 "nbformat": 4,
 "nbformat_minor": 5
}
