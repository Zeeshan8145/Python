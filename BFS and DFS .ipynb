{
 "cells": [
  {
   "cell_type": "code",
   "execution_count": 17,
   "id": "aa641f49",
   "metadata": {},
   "outputs": [
    {
     "name": "stdout",
     "output_type": "stream",
     "text": [
      "[0]\n",
      "[0, 1]\n",
      "[0, 1, 2]\n",
      "False\n",
      "0 [1, 2]\n",
      "1 [2]\n",
      "2 []\n",
      "True\n"
     ]
    }
   ],
   "source": [
    "# Queue is used for FIFO\n",
    "class Queue: \n",
    "    def __init__(self):\n",
    "        self.queue = []\n",
    "    def addq(self,v):\n",
    "        self.queue.append(v)\n",
    "    def delq(self):\n",
    "            v = None\n",
    "            if not self.isempty():\n",
    "                v = self.queue[0]\n",
    "                self.queue =  self.queue[1:]\n",
    "            return(v)\n",
    "    def isempty(self):\n",
    "        return(self.queue == [])\n",
    "    \n",
    "    def __str__(self):\n",
    "        return(str(self.queue))\n",
    "\n",
    "# Trial to add and delete elements in the Queue\n",
    "q = Queue()\n",
    "\n",
    "for i in range(3):\n",
    "    q.addq(i)\n",
    "    print(q)\n",
    "print(q.isempty())\n",
    "\n",
    "for j in range(3):\n",
    "    print(q.delq(),q)\n",
    "print(q.isempty())\n",
    "                "
   ]
  },
  {
   "cell_type": "code",
   "execution_count": 18,
   "id": "edb58315",
   "metadata": {},
   "outputs": [],
   "source": [
    "# BFS with AMat\n",
    "def BFS(AMat,v):\n",
    "    (row,columns) = AMat.shape\n",
    "    visited = {}\n",
    "    for i in range(rows):\n",
    "        visited[i] = False\n",
    "    q = Queue()\n",
    "    \n",
    "    visted[v] = True\n",
    "    q.addq(v)\n",
    "    \n",
    "    while(not q.isempty()):\n",
    "        j = q.delq()\n",
    "        for k in neighbours(Amat, j):\n",
    "            if (not visited[k]):\n",
    "                visisted[k] = True\n",
    "                q.addq(k)\n",
    "    return(visited)"
   ]
  },
  {
   "cell_type": "code",
   "execution_count": 19,
   "id": "69b29129",
   "metadata": {},
   "outputs": [],
   "source": [
    "def BFSListPath(AList,v):\n",
    "    (visited,parent) = ({},{})\n",
    "    for i in AList.keys():\n",
    "        visited[i] =  False\n",
    "        parent[i] = -1\n",
    "    q = Queue()\n",
    "    \n",
    "    visted[v] = True\n",
    "    q.addq(v)\n",
    "    \n",
    "    while(not q.isempty()):\n",
    "        j = q.delq()\n",
    "        for k in neighbours(Amat, j):\n",
    "            if (not visited[k]):\n",
    "                visisted[k] = True\n",
    "                q.addq(k)\n",
    "    return(visited,parent)"
   ]
  },
  {
   "cell_type": "code",
   "execution_count": null,
   "id": "ca046c44",
   "metadata": {},
   "outputs": [],
   "source": []
  },
  {
   "cell_type": "code",
   "execution_count": null,
   "id": "b0275b4b",
   "metadata": {},
   "outputs": [],
   "source": []
  }
 ],
 "metadata": {
  "kernelspec": {
   "display_name": "Python 3 (ipykernel)",
   "language": "python",
   "name": "python3"
  },
  "language_info": {
   "codemirror_mode": {
    "name": "ipython",
    "version": 3
   },
   "file_extension": ".py",
   "mimetype": "text/x-python",
   "name": "python",
   "nbconvert_exporter": "python",
   "pygments_lexer": "ipython3",
   "version": "3.9.13"
  }
 },
 "nbformat": 4,
 "nbformat_minor": 5
}
